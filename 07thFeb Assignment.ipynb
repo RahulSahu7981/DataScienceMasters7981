{
 "cells": [
  {
   "cell_type": "code",
   "execution_count": 1,
   "metadata": {},
   "outputs": [
    {
     "data": {
      "text/plain": [
       "'invalid password'"
      ]
     },
     "execution_count": 1,
     "metadata": {},
     "output_type": "execute_result"
    }
   ],
   "source": [
    "# Q1\n",
    "def pas_check():\n",
    "    password = input(\"enter your password here:- \")\n",
    "    lowercase = 0\n",
    "    uppercase = 0\n",
    "    digit = 0\n",
    "    special_char = 0\n",
    "    total_count = 0\n",
    "    for i in password:\n",
    "        if i.islower():\n",
    "            lowercase = lowercase + 1\n",
    "            total_count = total_count + 1\n",
    "        elif i.isupper():\n",
    "            uppercase = uppercase + 1\n",
    "            total_count = total_count + 1\n",
    "        elif i.isdigit():\n",
    "            digit = digit + 1\n",
    "            total_count = total_count + 1\n",
    "        else:\n",
    "            special_char = special_char + 1\n",
    "            total_count = total_count + 1\n",
    "            \n",
    "    if lowercase >= 2 and uppercase >= 2 and digit >= 1 and special_char >= 3 and total_count == 10:\n",
    "        return \"valid password\"\n",
    "    else:\n",
    "        return \"invalid password\"\n",
    "pas_check()"
   ]
  },
  {
   "cell_type": "code",
   "execution_count": 1,
   "metadata": {},
   "outputs": [
    {
     "data": {
      "text/plain": [
       "16"
      ]
     },
     "execution_count": 1,
     "metadata": {},
     "output_type": "execute_result"
    }
   ],
   "source": [
    "m=16\n",
    "m\n"
   ]
  },
  {
   "cell_type": "code",
   "execution_count": 18,
   "metadata": {},
   "outputs": [
    {
     "data": {
      "text/plain": [
       "False"
      ]
     },
     "execution_count": 18,
     "metadata": {},
     "output_type": "execute_result"
    }
   ],
   "source": [
    "# Q2 1)a)\n",
    "x=lambda text, char:text.startswith(\"2\")\n",
    "text=input(\"Enter the String\")\n",
    "char=input(\"Enter the character you want to check to start with\")\n",
    "x(\"wfijngerg\",\"w\")"
   ]
  },
  {
   "cell_type": "code",
   "execution_count": 19,
   "metadata": {},
   "outputs": [
    {
     "name": "stdout",
     "output_type": "stream",
     "text": [
      "[('orange', 80), ('mango', 99), ('grapes', 1000)]\n"
     ]
    }
   ],
   "source": [
    "# Q2 1)b Sorting a list of tuples\n",
    "def sort_tuple(tup):\n",
    "    tup.sort(key=lambda x:x[1])\n",
    "    return tup\n",
    "tup=[(\"mango\",99),(\"orange\",80), (\"grapes\", 1000)]\n",
    "print(sort_tuple(tup))"
   ]
  },
  {
   "cell_type": "code",
   "execution_count": 20,
   "metadata": {},
   "outputs": [
    {
     "name": "stdout",
     "output_type": "stream",
     "text": [
      "1\n",
      "4\n",
      "9\n",
      "16\n",
      "25\n",
      "36\n",
      "49\n",
      "64\n",
      "81\n",
      "100\n"
     ]
    }
   ],
   "source": [
    "# Q2 c) sq. of numbers from 1 to 10\n",
    "x= lambda a:a**2\n",
    "\n",
    "for i in range(1,11,1):\n",
    "    print(x(i))"
   ]
  },
  {
   "cell_type": "code",
   "execution_count": 21,
   "metadata": {},
   "outputs": [
    {
     "name": "stdout",
     "output_type": "stream",
     "text": [
      "1\n",
      "8\n",
      "27\n",
      "64\n",
      "125\n",
      "216\n",
      "343\n",
      "512\n",
      "729\n",
      "1000\n"
     ]
    }
   ],
   "source": [
    "# Q2 d) cube of nos. from 1 to 10\n",
    "x= lambda a:a**3\n",
    "for i in range(1,11,1):\n",
    "    print(x(i))"
   ]
  },
  {
   "cell_type": "code",
   "execution_count": 28,
   "metadata": {},
   "outputs": [
    {
     "name": "stdout",
     "output_type": "stream",
     "text": [
      "False\n"
     ]
    }
   ],
   "source": [
    "# Q2 e) check if even or not\n",
    "check= lambda x:True if x%2==0 else False\n",
    "\n",
    "num=int(input(\"Enter the number you want to check\"))\n",
    "print(check(num))"
   ]
  },
  {
   "cell_type": "code",
   "execution_count": 30,
   "metadata": {},
   "outputs": [
    {
     "name": "stdout",
     "output_type": "stream",
     "text": [
      "[1, 3, 5, 7, 9]\n"
     ]
    }
   ],
   "source": [
    "# Q2 f) filter odd no.s\n",
    "check=lambda x:True if x%2==0 else False\n",
    "l=[1,2,3,4,5,6,7,8,9,10]\n",
    "l1=[]\n",
    "for i in range(1,11,1):\n",
    "    if(check(i)==False):\n",
    "        l1.append(i)\n",
    "print(l1)"
   ]
  },
  {
   "cell_type": "code",
   "execution_count": 2,
   "metadata": {},
   "outputs": [
    {
     "name": "stdout",
     "output_type": "stream",
     "text": [
      "Positive Integers are: [1, 2, 3, 4, 5, 6]\n",
      "Negative Integers Are: [-1, -2, -3, -4, -5]\n"
     ]
    }
   ],
   "source": [
    "# Q2 g) sort +ve and -ve integers\n",
    "\n",
    "def sort_integers(l):\n",
    "    positive=[]\n",
    "    negative=[]\n",
    "    # for num in l:\n",
    "    #     if num>0:\n",
    "    #         positive.append(num)\n",
    "    #     elif num<0:\n",
    "    #         negative.append(num)\n",
    "    \n",
    "    return positive,negative\n",
    "\n",
    "l=[1,2,3,4,5,6,-1,-2,-3,-4,-5,0]\n",
    "positive,negative=sort_integers(l)\n",
    "print(\"Positive Integers are:\",positive)\n",
    "print(\"Negative Integers Are:\",negative)"
   ]
  },
  {
   "cell_type": "code",
   "execution_count": 4,
   "metadata": {},
   "outputs": [
    {
     "name": "stdout",
     "output_type": "stream",
     "text": [
      "Positive Integers are: [1, 2, 3, 4, 5, 6, 0]\n",
      "Negative Integers Are: [-1, -2, -3, -4, -5]\n"
     ]
    }
   ],
   "source": [
    "# Q2 g)\n",
    "x=lambda a:True if a>=0  else False\n",
    "\n",
    "l=[1,2,3,4,5,6,-1,-2,-3,-4,-5,0]\n",
    "positive=[]\n",
    "negative=[]\n",
    "for i in l:\n",
    "    if(x(i)):\n",
    "        positive.append(i)\n",
    "    else:\n",
    "        negative.append(i)\n",
    "print(\"Positive Integers are:\",positive)\n",
    "print(\"Negative Integers Are:\",negative)"
   ]
  }
 ],
 "metadata": {
  "kernelspec": {
   "display_name": "Python 3",
   "language": "python",
   "name": "python3"
  },
  "language_info": {
   "codemirror_mode": {
    "name": "ipython",
    "version": 3
   },
   "file_extension": ".py",
   "mimetype": "text/x-python",
   "name": "python",
   "nbconvert_exporter": "python",
   "pygments_lexer": "ipython3",
   "version": "3.10.10"
  },
  "orig_nbformat": 4,
  "vscode": {
   "interpreter": {
    "hash": "f25927998562c69dadb78ab36252dacd152a16449c20045720a25cded6f04852"
   }
  }
 },
 "nbformat": 4,
 "nbformat_minor": 2
}
