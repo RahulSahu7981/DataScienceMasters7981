{
 "cells": [
  {
   "cell_type": "code",
   "execution_count": null,
   "id": "249f4578-28e5-49ac-a527-92fab1fc3f58",
   "metadata": {},
   "outputs": [],
   "source": [
    "Answer 1:-The for loop is used when we already know the number of iterations,\n",
    "which means when we know how many times a statements has to be executed. This\n",
    "is why we have to specify the ending point in the for loop initialization. \n",
    "When we need to end the loop on a condition other than the number of times, \n",
    "we use a while loop."
   ]
  },
  {
   "cell_type": "code",
   "execution_count": 1,
   "id": "369218b6-15a4-4822-b772-078f8daddeb4",
   "metadata": {},
   "outputs": [
    {
     "name": "stdout",
     "output_type": "stream",
     "text": [
      "55\n",
      "3628800\n"
     ]
    }
   ],
   "source": [
    "# Answer 2:- WAP to print the sum and product of first 10 natural no.s using\n",
    "# for and while loop\n",
    "resultsum=0\n",
    "resultproduct=1\n",
    "# using for loop first\n",
    "for i in range(1,11,1):\n",
    "    resultsum=resultsum+i\n",
    "    resultproduct=resultproduct*i\n",
    "print(resultsum)\n",
    "print(resultproduct)"
   ]
  },
  {
   "cell_type": "code",
   "execution_count": 5,
   "id": "37d41d32-ed29-429d-ab45-ca02bbe27a79",
   "metadata": {},
   "outputs": [
    {
     "name": "stdout",
     "output_type": "stream",
     "text": [
      "55\n",
      "3628800\n"
     ]
    }
   ],
   "source": [
    "# using while loop\n",
    "resultsum=0\n",
    "resultproduct=1\n",
    "i=1\n",
    "while i<11:\n",
    "    resultsum=resultsum+i\n",
    "    resultproduct=resultproduct*i\n",
    "    i=i+1\n",
    "print(resultsum)\n",
    "print(resultproduct)"
   ]
  },
  {
   "cell_type": "code",
   "execution_count": 21,
   "id": "e7672877-6876-45d1-a367-e5976f5fb64f",
   "metadata": {},
   "outputs": [
    {
     "name": "stdout",
     "output_type": "stream",
     "text": [
      "Enter the Total No. of Units Consumed:\n"
     ]
    },
    {
     "name": "stdin",
     "output_type": "stream",
     "text": [
      "None 310\n"
     ]
    },
    {
     "data": {
      "text/plain": [
       "2250.0"
      ]
     },
     "execution_count": 21,
     "metadata": {},
     "output_type": "execute_result"
    }
   ],
   "source": [
    "# Q3. Create a python program to compute the electricity bill for a household.\n",
    "# The per-unit charges in rupees are as follows: For the first 100 units,\n",
    "# the user will be charged Rs. 4.5 per\n",
    "# unit, for the next 100 units, the user will be charged Rs. 6 per unit,\n",
    "# and for the next 100 units, the user will\n",
    "# be charged Rs. 10 per unit, After 300 units and above the user will be charged Rs. 20 per unit.\n",
    "# You are required to take the units of electricity consumed in a month from the user as input.\n",
    "\n",
    "# Your program must pass this test case: when the unit of electricity consumed by the user in a month is\n",
    "# 310, the total electricity bill should be 2250.\n",
    "# Answer 3:-\n",
    "units=int(input(print(\"Enter the Total No. of Units Consumed:\")))\n",
    "totalamount=0\n",
    "r=units%100\n",
    "# while units>0:\n",
    "if units>=100 and units<200:\n",
    "        \n",
    "        totalamount=100*4.5+r*6\n",
    "        \n",
    "elif units>=200 and units <300:\n",
    "        totalamount=100*4.5+100*6+r*10\n",
    "elif units>=300:\n",
    "        remaining=units-300\n",
    "        totalamount=100*4.5+100*6+100*10+remaining*20\n",
    "        \n",
    "else:\n",
    "        # units are less than 100 so units*4.5\n",
    "        totalamount=units*4.5\n",
    "        \n",
    "totalamount\n",
    "    "
   ]
  },
  {
   "cell_type": "code",
   "execution_count": 27,
   "id": "6a8c7cfc-5e71-4883-9880-68e0569b1365",
   "metadata": {},
   "outputs": [
    {
     "ename": "IndentationError",
     "evalue": "unindent does not match any outer indentation level (<tokenize>, line 21)",
     "output_type": "error",
     "traceback": [
      "\u001b[0;36m  File \u001b[0;32m<tokenize>:21\u001b[0;36m\u001b[0m\n\u001b[0;31m    if r==0:\u001b[0m\n\u001b[0m    ^\u001b[0m\n\u001b[0;31mIndentationError\u001b[0m\u001b[0;31m:\u001b[0m unindent does not match any outer indentation level\n"
     ]
    }
   ],
   "source": [
    "units=int(input(print(\"Enter the Total No. of Units Consumed:\")))\n",
    "totalamount=0\n",
    "r=units%100\n",
    "while units>0:\n",
    "    if units>300:\n",
    "        remaining=units-300\n",
    "        totalamount=totalamount+remaining*20\n",
    "        units=units-remaining\n",
    "        \n",
    "    elif units>200 and units <=300:\n",
    "        r=units%100\n",
    "        if r==0:\n",
    "            totalamount=totalamount+100*10\n",
    "            units=units-100\n",
    "        else:\n",
    "            totalamount=totalamount+r*10\n",
    "            units=units-r\n",
    "            \n",
    "    elif units>100 and units<=200:\n",
    "         r=units%100\n",
    "        if r==0:\n",
    "            totalamount=totalamount+100*6\n",
    "            units=units-100\n",
    "        else:\n",
    "            totalamount=totalamount+r*6\n",
    "            units=units-r\n",
    "    else:\n",
    "        # units are less than 100 so units*4.5\n",
    "        totalamount=units*4.5\n",
    "        \n",
    "totalamount"
   ]
  },
  {
   "cell_type": "code",
   "execution_count": 30,
   "id": "dac981ad-aeb1-4055-97ee-e6533a9e694e",
   "metadata": {},
   "outputs": [],
   "source": [
    "# Q4. Create a list of numbers from 1 to 100. Use for loop and while loop to calculate the cube of each\n",
    "# number and if the cube of that number is divisible by 4 or 5 then append that number in a list and print\n",
    "# that list.\n",
    "\n",
    "# Answer 4:-\n",
    "l=[]\n",
    "for i in range(1,101,1):\n",
    "    l.append(i)\n",
    "l\n"
   ]
  },
  {
   "cell_type": "code",
   "execution_count": 39,
   "id": "6793fc9b-e0cb-4697-9047-eee7e90def63",
   "metadata": {},
   "outputs": [
    {
     "data": {
      "text/plain": [
       "[8,\n",
       " 64,\n",
       " 125,\n",
       " 216,\n",
       " 512,\n",
       " 1000,\n",
       " 1728,\n",
       " 2744,\n",
       " 3375,\n",
       " 4096,\n",
       " 5832,\n",
       " 8000,\n",
       " 10648,\n",
       " 13824,\n",
       " 15625,\n",
       " 17576,\n",
       " 21952,\n",
       " 27000,\n",
       " 32768,\n",
       " 39304,\n",
       " 42875,\n",
       " 46656,\n",
       " 54872,\n",
       " 64000,\n",
       " 74088,\n",
       " 85184,\n",
       " 91125,\n",
       " 97336,\n",
       " 110592,\n",
       " 125000,\n",
       " 140608,\n",
       " 157464,\n",
       " 166375,\n",
       " 175616,\n",
       " 195112,\n",
       " 216000,\n",
       " 238328,\n",
       " 262144,\n",
       " 274625,\n",
       " 287496,\n",
       " 314432,\n",
       " 343000,\n",
       " 373248,\n",
       " 405224,\n",
       " 421875,\n",
       " 438976,\n",
       " 474552,\n",
       " 512000,\n",
       " 551368,\n",
       " 592704,\n",
       " 614125,\n",
       " 636056,\n",
       " 681472,\n",
       " 729000,\n",
       " 778688,\n",
       " 830584,\n",
       " 857375,\n",
       " 884736,\n",
       " 941192,\n",
       " 1000000]"
      ]
     },
     "execution_count": 39,
     "metadata": {},
     "output_type": "execute_result"
    }
   ],
   "source": [
    "l1=[]\n",
    "for i in l:\n",
    "    temp=i*i*i\n",
    "    if temp%4==0 or temp%5==0:\n",
    "        l1.append(temp)\n",
    "l1"
   ]
  },
  {
   "cell_type": "code",
   "execution_count": 36,
   "id": "2ffd75d3-bddd-4c2e-b5a0-e9cade189f57",
   "metadata": {},
   "outputs": [
    {
     "data": {
      "text/plain": [
       "[1,\n",
       " 8,\n",
       " 27,\n",
       " 64,\n",
       " 125,\n",
       " 216,\n",
       " 343,\n",
       " 512,\n",
       " 729,\n",
       " 1000,\n",
       " 1331,\n",
       " 1728,\n",
       " 2197,\n",
       " 2744,\n",
       " 3375,\n",
       " 4096,\n",
       " 4913,\n",
       " 5832,\n",
       " 6859,\n",
       " 8000,\n",
       " 9261,\n",
       " 10648,\n",
       " 12167,\n",
       " 13824,\n",
       " 15625,\n",
       " 17576,\n",
       " 19683,\n",
       " 21952,\n",
       " 24389,\n",
       " 27000,\n",
       " 29791,\n",
       " 32768,\n",
       " 35937,\n",
       " 39304,\n",
       " 42875,\n",
       " 46656,\n",
       " 50653,\n",
       " 54872,\n",
       " 59319,\n",
       " 64000,\n",
       " 68921,\n",
       " 74088,\n",
       " 79507,\n",
       " 85184,\n",
       " 91125,\n",
       " 97336,\n",
       " 103823,\n",
       " 110592,\n",
       " 117649,\n",
       " 125000,\n",
       " 132651,\n",
       " 140608,\n",
       " 148877,\n",
       " 157464,\n",
       " 166375,\n",
       " 175616,\n",
       " 185193,\n",
       " 195112,\n",
       " 205379,\n",
       " 216000,\n",
       " 226981,\n",
       " 238328,\n",
       " 250047,\n",
       " 262144,\n",
       " 274625,\n",
       " 287496,\n",
       " 300763,\n",
       " 314432,\n",
       " 328509,\n",
       " 343000,\n",
       " 357911,\n",
       " 373248,\n",
       " 389017,\n",
       " 405224,\n",
       " 421875,\n",
       " 438976,\n",
       " 456533,\n",
       " 474552,\n",
       " 493039,\n",
       " 512000,\n",
       " 531441,\n",
       " 551368,\n",
       " 571787,\n",
       " 592704,\n",
       " 614125,\n",
       " 636056,\n",
       " 658503,\n",
       " 681472,\n",
       " 704969,\n",
       " 729000,\n",
       " 753571,\n",
       " 778688,\n",
       " 804357,\n",
       " 830584,\n",
       " 857375,\n",
       " 884736,\n",
       " 912673,\n",
       " 941192,\n",
       " 970299,\n",
       " 1000000]"
      ]
     },
     "execution_count": 36,
     "metadata": {},
     "output_type": "execute_result"
    }
   ],
   "source": [
    "l1=[]\n",
    "for i in range(1,101,1):\n",
    "    l1.append(i*i*i)\n",
    "l1"
   ]
  },
  {
   "cell_type": "code",
   "execution_count": 41,
   "id": "4bebe018-e9b6-4c04-b4c8-df25a12ee5b9",
   "metadata": {},
   "outputs": [
    {
     "data": {
      "text/plain": [
       "12"
      ]
     },
     "execution_count": 41,
     "metadata": {},
     "output_type": "execute_result"
    }
   ],
   "source": [
    "# Q5. Write a program to filter count vowels in the below-given string.\n",
    "# string = \"I want to become a data scientist\"\n",
    "string = \"I want to become a data scientist\"\n",
    "count=0\n",
    "for i in string:\n",
    "    if i=='a'or i=='e'or i=='i'or i=='o'or i=='u'or i=='A'or i=='E'or i=='I'or i=='O'or i=='U':\n",
    "        count+=1\n",
    "count"
   ]
  }
 ],
 "metadata": {
  "kernelspec": {
   "display_name": "Python 3 (ipykernel)",
   "language": "python",
   "name": "python3"
  },
  "language_info": {
   "codemirror_mode": {
    "name": "ipython",
    "version": 3
   },
   "file_extension": ".py",
   "mimetype": "text/x-python",
   "name": "python",
   "nbconvert_exporter": "python",
   "pygments_lexer": "ipython3",
   "version": "3.10.8"
  }
 },
 "nbformat": 4,
 "nbformat_minor": 5
}
