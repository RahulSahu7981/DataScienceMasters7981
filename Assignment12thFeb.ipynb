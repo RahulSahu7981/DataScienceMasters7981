{
 "cells": [
  {
   "attachments": {},
   "cell_type": "markdown",
   "metadata": {},
   "source": [
    "Q1-What is an Exception in python? Write the difference between Exceptions and Syntax Errors.\n",
    "\n",
    "Ans 1:-\n",
    "The main difference between exceptions and syntax errors is that exceptions occur during program execution while syntax errors occur during the compilation of the program. Syntax errors are caught by the interpreter before the program is executed, while exceptions are caught during the execution of the program. Syntax errors are typically caused by mistakes in the code, while exceptions are caused by unexpected events or conditions that occur during program execution. Additionally, syntax errors can be corrected by fixing the code, while exceptions must be handled by the programmer using exception handling techniques."
   ]
  },
  {
   "attachments": {},
   "cell_type": "markdown",
   "metadata": {},
   "source": [
    "Q2:- What happens when exceptions are not handled? Explain with an example.\n",
    "\n",
    "Ans 2:-\n",
    "When exceptions are not handled, the program will terminate abruptly and an error message will be displayed. This can be problematic if the program is running critical tasks or if it needs to run continuously without interruptions."
   ]
  },
  {
   "cell_type": "code",
   "execution_count": null,
   "metadata": {},
   "outputs": [],
   "source": [
    "filename = 'nonexistent_file.txt'\n",
    "try:\n",
    "    with open(filename,'r') as f:\n",
    "        data=f.read()\n",
    "    # perform some calculations on the data\n",
    "except FileNotFoundError:\n",
    "    print(f\"Error: The file '{filename}' does not exist.\")"
   ]
  },
  {
   "attachments": {},
   "cell_type": "markdown",
   "metadata": {},
   "source": [
    "In the above code, we are trying to open a file with the name 'nonexistentfile.txt'. If the file doesnot exist, a FileNotFoundError exception will be raised. However, we have used a try-except block to handle the exception and display an error message instead of terminating the program abruptly. \n",
    "If we remove the try-excapt block from the above code, the program will terminate abruptly with an error message indicating the exception:\n"
   ]
  },
  {
   "cell_type": "code",
   "execution_count": 1,
   "metadata": {},
   "outputs": [
    {
     "ename": "SyntaxError",
     "evalue": "incomplete input (4070711359.py, line 1)",
     "output_type": "error",
     "traceback": [
      "\u001b[1;36m  Cell \u001b[1;32mIn[1], line 1\u001b[1;36m\u001b[0m\n\u001b[1;33m    with open(filename,'r') as f:\u001b[0m\n\u001b[1;37m                                 ^\u001b[0m\n\u001b[1;31mSyntaxError\u001b[0m\u001b[1;31m:\u001b[0m incomplete input\n"
     ]
    }
   ],
   "source": [
    "with open(filename,'r') as f:\n"
   ]
  },
  {
   "attachments": {},
   "cell_type": "markdown",
   "metadata": {},
   "source": [
    "Thus, it is important to handle exceptions in a program to avoid abrupt termination and provide a meaningful error message to the user."
   ]
  },
  {
   "attachments": {},
   "cell_type": "markdown",
   "metadata": {},
   "source": [
    "Q3. Which Python statements are used to catch and handle exceptions? Explain withn example.\n",
    "Ans 3:-\n",
    "In Python, the try and except statements are used to catch and handle exceptions.\n",
    "\n",
    "The try statement is used to enclose the code that may raise an exception. If an exception is raised within the try block, it is caught by the corresponding except block. The except block specifies the type of exception that it can handle and provides a code block to handle the exception.\n",
    "For exp:-\n"
   ]
  },
  {
   "cell_type": "code",
   "execution_count": 2,
   "metadata": {},
   "outputs": [
    {
     "name": "stdout",
     "output_type": "stream",
     "text": [
      "Error: Divison By Zero.\n"
     ]
    }
   ],
   "source": [
    "num=10\n",
    "den=0\n",
    "\n",
    "try:\n",
    "    result=num/den\n",
    "    print(f\"The Result is{result}.\")\n",
    "except ZeroDivisionError:\n",
    "    print(\"Error: Divison By Zero.\")"
   ]
  },
  {
   "attachments": {},
   "cell_type": "markdown",
   "metadata": {},
   "source": [
    "Q4- Explain with an Example:\n",
    "a) try and else\n",
    "b) finally\n",
    "c) raise\n",
    "\n",
    "Ans 4:-\n",
    "In Python, we can use the try and else statements together to handle code that may raise an exception and execute some additional code if no exception is raised. The else block is executed only if the code within the try block executes successfully without any exception being raised."
   ]
  },
  {
   "cell_type": "code",
   "execution_count": 3,
   "metadata": {},
   "outputs": [
    {
     "name": "stdout",
     "output_type": "stream",
     "text": [
      "The result is 6.25.\n"
     ]
    }
   ],
   "source": [
    "num=25\n",
    "den=4\n",
    "\n",
    "try:\n",
    "    result=num/den\n",
    "except ZeroDivisionError:\n",
    "    print(\"Error: Divison By Zero\")\n",
    "else:\n",
    "    print(f\"The result is {result}.\")"
   ]
  },
  {
   "attachments": {},
   "cell_type": "markdown",
   "metadata": {},
   "source": [
    "Note that if an exception is raised during the execution of the try block, the else block will not be executed. The else block is only executed if the try block completes successfully without raising an exception."
   ]
  },
  {
   "attachments": {},
   "cell_type": "markdown",
   "metadata": {},
   "source": [
    "The finally block is executed regardless of whether an exception was raised or not, and is typically used to release any resources that were acquired during the execution of the try block."
   ]
  },
  {
   "cell_type": "code",
   "execution_count": 4,
   "metadata": {},
   "outputs": [
    {
     "name": "stdout",
     "output_type": "stream",
     "text": [
      "Error: Division by Zero.\n",
      "This code is always executed.\n",
      "The program continues to Execute.\n"
     ]
    }
   ],
   "source": [
    "num=10\n",
    "den=0\n",
    "\n",
    "try:\n",
    "    result=num/den\n",
    "except ZeroDivisionError:\n",
    "    print(\"Error: Division by Zero.\")\n",
    "finally:\n",
    "    print(\"This code is always executed.\")\n",
    "print(\"The program continues to Execute.\")"
   ]
  },
  {
   "attachments": {},
   "cell_type": "markdown",
   "metadata": {},
   "source": [
    "Additionally, we have provided a finally block to execute some additional code regardless of whether an exception is raised or not. The finally block specifies the code to be executed regardless of whether an exception was raised or not."
   ]
  },
  {
   "attachments": {},
   "cell_type": "markdown",
   "metadata": {},
   "source": [
    "In Python, we can use the raise statement to raise an exception manually. We can use this statement to raise built-in exceptions or create our own custom exceptions.\n",
    "\n",
    "For example:-"
   ]
  },
  {
   "cell_type": "code",
   "execution_count": 5,
   "metadata": {},
   "outputs": [
    {
     "ename": "ValueError",
     "evalue": "Age Cannot Be Negative.",
     "output_type": "error",
     "traceback": [
      "\u001b[1;31m---------------------------------------------------------------------------\u001b[0m",
      "\u001b[1;31mValueError\u001b[0m                                Traceback (most recent call last)",
      "Cell \u001b[1;32mIn[5], line 3\u001b[0m\n\u001b[0;32m      1\u001b[0m age\u001b[39m=\u001b[39m\u001b[39m-\u001b[39m\u001b[39m10\u001b[39m\n\u001b[0;32m      2\u001b[0m \u001b[39mif\u001b[39;00m age\u001b[39m<\u001b[39m\u001b[39m0\u001b[39m:\n\u001b[1;32m----> 3\u001b[0m     \u001b[39mraise\u001b[39;00m \u001b[39mValueError\u001b[39;00m(\u001b[39m\"\u001b[39m\u001b[39mAge Cannot Be Negative.\u001b[39m\u001b[39m\"\u001b[39m)\n",
      "\u001b[1;31mValueError\u001b[0m: Age Cannot Be Negative."
     ]
    }
   ],
   "source": [
    "age=-10\n",
    "if age<0:\n",
    "    raise ValueError(\"Age Cannot Be Negative.\")"
   ]
  },
  {
   "cell_type": "code",
   "execution_count": 6,
   "metadata": {},
   "outputs": [
    {
     "name": "stdout",
     "output_type": "stream",
     "text": [
      "Error: Age Cannot Be Negative\n"
     ]
    }
   ],
   "source": [
    "class CustomError(Exception):\n",
    "    pass\n",
    "def validate_age(age):\n",
    "    if age<0:\n",
    "        raise CustomError(\"Age Cannot Be Negative\")\n",
    "try:\n",
    "    age=-10\n",
    "    validate_age(age)\n",
    "except CustomError as e:\n",
    "    print(f\"Error: {e}\")"
   ]
  },
  {
   "attachments": {},
   "cell_type": "markdown",
   "metadata": {},
   "source": [
    "Q5:- What Are the Custom errors in Python. Explain with an example.\n",
    "Ans 5:\n",
    "In Python, custom errors can be created using the raise statement. Custom errors are useful when the built-in exceptions don't accurately describe the error that occurred. "
   ]
  },
  {
   "cell_type": "code",
   "execution_count": 8,
   "metadata": {},
   "outputs": [
    {
     "name": "stdout",
     "output_type": "stream",
     "text": [
      "CustomError:Cannot Divide By Zero\n"
     ]
    }
   ],
   "source": [
    "class CustomError(Exception):\n",
    "    def __init__(self,message):\n",
    "        self.message=message\n",
    "        #message is stored into self.message\n",
    "    def __str__(self):\n",
    "        return f\"CustomError:{self.message}\"\n",
    "    #this return is stored into result in line 17\n",
    "\n",
    "#division function\n",
    "def divison(x,y):\n",
    "    if y==0:\n",
    "        raise CustomError(\"Cannot Divide By Zero\")\n",
    "    #it calls the above class by passing the string\n",
    "    else:\n",
    "        return x/y\n",
    "try:\n",
    "    result=divison(10,0)\n",
    "except CustomError as e:\n",
    "    print(e)"
   ]
  },
  {
   "attachments": {},
   "cell_type": "markdown",
   "metadata": {},
   "source": [
    "Q6- Create a custom Exception Class to handle an Exception.\n",
    "Ans 6-\n"
   ]
  },
  {
   "cell_type": "code",
   "execution_count": 10,
   "metadata": {},
   "outputs": [
    {
     "name": "stdout",
     "output_type": "stream",
     "text": [
      "Number Must Be Positive.\n"
     ]
    }
   ],
   "source": [
    "class MyCustomException(Exception):\n",
    "    pass\n",
    "def my_function(num):\n",
    "    if num<0:\n",
    "        raise MyCustomException(\"Number Must Be Positive.\")\n",
    "    else:\n",
    "        return num\n",
    "try:\n",
    "    my_function(-1)\n",
    "except MyCustomException as e:\n",
    "    print(e)"
   ]
  }
 ],
 "metadata": {
  "kernelspec": {
   "display_name": "Python 3",
   "language": "python",
   "name": "python3"
  },
  "language_info": {
   "codemirror_mode": {
    "name": "ipython",
    "version": 3
   },
   "file_extension": ".py",
   "mimetype": "text/x-python",
   "name": "python",
   "nbconvert_exporter": "python",
   "pygments_lexer": "ipython3",
   "version": "3.10.10"
  },
  "orig_nbformat": 4
 },
 "nbformat": 4,
 "nbformat_minor": 2
}
