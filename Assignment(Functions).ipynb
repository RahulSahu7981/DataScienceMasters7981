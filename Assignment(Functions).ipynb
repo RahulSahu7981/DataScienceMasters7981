{
 "cells": [
  {
   "cell_type": "code",
   "execution_count": 1,
   "id": "fc090922-0c0e-40e2-b2ab-b8111fe60599",
   "metadata": {},
   "outputs": [
    {
     "ename": "SyntaxError",
     "evalue": "invalid syntax (1735081276.py, line 1)",
     "output_type": "error",
     "traceback": [
      "\u001b[0;36m  Cell \u001b[0;32mIn[1], line 1\u001b[0;36m\u001b[0m\n\u001b[0;31m    Answer 1:- def keyword is used to create the function\u001b[0m\n\u001b[0m           ^\u001b[0m\n\u001b[0;31mSyntaxError\u001b[0m\u001b[0;31m:\u001b[0m invalid syntax\n"
     ]
    }
   ],
   "source": [
    "Answer 1:- def keyword is used to create the function\n",
    "#function to return a list of odd numbers in the\n",
    "# range of 1 to 25.\n"
   ]
  },
  {
   "cell_type": "code",
   "execution_count": 2,
   "id": "7829ac25-b327-43fe-b1ff-f9672e1f74c3",
   "metadata": {},
   "outputs": [
    {
     "data": {
      "text/plain": [
       "[1, 3, 5, 7]"
      ]
     },
     "execution_count": 2,
     "metadata": {},
     "output_type": "execute_result"
    }
   ],
   "source": [
    "def func1(l):\n",
    "    l1=[]\n",
    "    for i in l:\n",
    "        if i%2!=0:\n",
    "            l1.append(i)\n",
    "    return l1\n",
    "\n",
    "l=[1,2,3,4,5,7]\n",
    "func1(l)"
   ]
  },
  {
   "cell_type": "code",
   "execution_count": null,
   "id": "891cae7b-3471-4a19-a4cb-12dab1c46c71",
   "metadata": {},
   "outputs": [],
   "source": [
    "Answer 2:-(*args)are used for creating the passing type parameters dynamically,\n",
    "*args passes variable number of non-keyworded arguments and on which \n",
    "operation of the tuple can be performed.\n",
    "**kwargs passes variable number of keyword arguments dictionary to function on which operation\n",
    "of a dictionary can be performed.\n",
    "*args and **kwargs make the function flexible."
   ]
  },
  {
   "cell_type": "code",
   "execution_count": 3,
   "id": "99a8593f-262d-46c3-89d0-773470691685",
   "metadata": {},
   "outputs": [
    {
     "name": "stdout",
     "output_type": "stream",
     "text": [
      "Sum: 17\n"
     ]
    }
   ],
   "source": [
    "# Examples\n",
    "def adder(*num):\n",
    "    sum = 0\n",
    "    \n",
    "    for i in num:\n",
    "        sum = sum + i\n",
    "\n",
    "    print(\"Sum:\",sum)\n",
    "\n",
    "adder(1,2,3,5,6)\n"
   ]
  },
  {
   "cell_type": "code",
   "execution_count": 6,
   "id": "eda5eed4-7316-4753-a07e-c51d4e3a8db6",
   "metadata": {},
   "outputs": [
    {
     "name": "stdout",
     "output_type": "stream",
     "text": [
      "\n",
      "Data type of argument: <class 'dict'>\n",
      "Firstname is Rahul\n",
      "Lastname is Sahu\n",
      "Email is rahulsahu@nomail.com\n",
      "Country is India\n",
      "Age is 20\n",
      "Phone is 912534533232\n"
     ]
    }
   ],
   "source": [
    "# Examples\n",
    "def intro(**data):\n",
    "    print(\"\\nData type of argument:\",type(data))\n",
    "\n",
    "    for key, value in data.items():\n",
    "        print(\"{} is {}\".format(key,value))\n",
    "intro(Firstname=\"Rahul\", Lastname=\"Sahu\", Email=\"rahulsahu@nomail.com\", Country=\"India\", Age=20, Phone=+912534533232)"
   ]
  },
  {
   "cell_type": "code",
   "execution_count": null,
   "id": "2a64c813-93d2-4733-9b7e-e6439e73d4f1",
   "metadata": {},
   "outputs": [],
   "source": [
    "Answer 3:-\n",
    "Iterator in Python is an object that is used to iterate over iterable objects like lists, tuples,dicts \n",
    "and sets. The iterator object is initialized using the iter() method. It uses the next()method of\n",
    "iteration.\n",
    "1)_iter_():- The iter() function method is called for the initialization of an iterator.This returns an \n",
    "iterator object.\n",
    "2)_next_(): The next method returns the next value for the iterable.When we use a for loop to traverse \n",
    "any iterable object, which further uses the next() method to iterate over.This method raises a \n",
    "StopIteration to signal the end of the iteration."
   ]
  },
  {
   "cell_type": "code",
   "execution_count": 1,
   "id": "aa5e0c7e-7f3e-4bf3-b9b3-8c230ca19c59",
   "metadata": {},
   "outputs": [
    {
     "name": "stdout",
     "output_type": "stream",
     "text": [
      "List Iteration\n",
      "geeks\n",
      "for\n",
      "geeks\n",
      "Tuple iteraion\n",
      "geeks\n",
      "for\n",
      "geeks\n",
      "\n",
      "String iteration\n",
      "G\n",
      "e\n",
      "e\n",
      "k\n",
      "s\n",
      "\n",
      "Dictionary iteration\n",
      "xyz 123\n",
      "abc 345\n"
     ]
    }
   ],
   "source": [
    "print(\"List Iteration\")\n",
    "l=[\"geeks\",\"for\",\"geeks\"]\n",
    "for i in l:\n",
    "    print(i)\n",
    "    \n",
    "# iterating over a tuple\n",
    "print(\"Tuple iteraion\")\n",
    "t=(\"geeks\",\"for\",\"geeks\")\n",
    "for i in t:\n",
    "    print(i)\n",
    "# iterating over a string\n",
    "print(\"\\nString iteration\")\n",
    "s=\"Geeks\"\n",
    "for i in s:\n",
    "    print(i)\n",
    "# iterating over a dictionary\n",
    "print(\"\\nDictionary iteration\")\n",
    "d=dict()\n",
    "d['xyz']=123\n",
    "d['abc']=345\n",
    "for i in d:\n",
    "    print(\"%s %d\" %(i,d[i]))"
   ]
  },
  {
   "cell_type": "markdown",
   "id": "f13e1123-d924-49d2-a3f5-6f45cc7aac7d",
   "metadata": {},
   "source": [
    "Answer 4:-In Python, a generator is a function that returns an iterator that produces a sequence of values when iterated over. Generators are useful when we want to produce a large sequence of values, but we don't want to store all of thek in memory at once."
   ]
  },
  {
   "cell_type": "code",
   "execution_count": 2,
   "id": "afb2142c-7188-47e8-b569-b07f23fe7bfb",
   "metadata": {},
   "outputs": [
    {
     "name": "stdout",
     "output_type": "stream",
     "text": [
      "0\n",
      "1\n",
      "2\n"
     ]
    }
   ],
   "source": [
    "def my_generator(n):\n",
    "    value=0\n",
    "    while value<n:\n",
    "        yield value\n",
    "        value+=1\n",
    "        \n",
    "for value in my_generator(3):\n",
    "    print(value)"
   ]
  },
  {
   "cell_type": "code",
   "execution_count": 4,
   "id": "a60dc514-cf21-440f-aeee-b0f932bcfcdc",
   "metadata": {},
   "outputs": [
    {
     "name": "stdout",
     "output_type": "stream",
     "text": [
      "0\n",
      "1\n",
      "4\n",
      "9\n",
      "16\n"
     ]
    }
   ],
   "source": [
    "squares_generator=( i*i for i in range(5))\n",
    "\n",
    "for i in squares_generator:\n",
    "    print(i)"
   ]
  },
  {
   "cell_type": "code",
   "execution_count": 7,
   "id": "caf9dde8-6ef0-4fff-ad48-704537edfa8d",
   "metadata": {},
   "outputs": [
    {
     "name": "stdout",
     "output_type": "stream",
     "text": [
      "2\n",
      "3\n",
      "5\n",
      "7\n",
      "11\n",
      "13\n",
      "17\n",
      "19\n",
      "23\n",
      "29\n",
      "31\n",
      "37\n",
      "41\n",
      "43\n",
      "47\n",
      "53\n",
      "59\n",
      "61\n",
      "67\n",
      "71\n"
     ]
    }
   ],
   "source": [
    "# Answer 5:-\n",
    "def prime_numbers_generator(n):\n",
    "    prime=[]\n",
    "    for num in range(2,n):\n",
    "        for i in range(2,num):\n",
    "            if(num%i)==0:\n",
    "                break\n",
    "        else:\n",
    "            prime.append(num)\n",
    "            yield num\n",
    "prime_numbers=prime_numbers_generator(1000)\n",
    "\n",
    "#using the next method to print the first 20 prime numbers\n",
    "for i in range(20):\n",
    "    print(next(prime_numbers))"
   ]
  },
  {
   "cell_type": "code",
   "execution_count": 11,
   "id": "adffb1c2-b0d6-4dfc-892e-184e87d09a95",
   "metadata": {},
   "outputs": [
    {
     "name": "stdout",
     "output_type": "stream",
     "text": [
      "0\n",
      "1\n",
      "1\n",
      "2\n",
      "3\n",
      "5\n",
      "8\n",
      "13\n",
      "21\n",
      "34\n"
     ]
    }
   ],
   "source": [
    "# Q6 WAP to pront first 10 fibonacci numbers using while loop\n",
    "# Answer 6:-\n",
    "i=1\n",
    "a,b=0,1\n",
    "c=a+b\n",
    "while i<=10:\n",
    "    print(a)\n",
    "    a=b\n",
    "    b=c\n",
    "    c=a+b\n",
    "    i+=1\n",
    "    "
   ]
  },
  {
   "cell_type": "code",
   "execution_count": 12,
   "id": "76785f5d-e029-4555-a30d-df0e57502c53",
   "metadata": {},
   "outputs": [
    {
     "data": {
      "text/plain": [
       "['p', 'w', 's', 'k', 'i', 'l', 'l', 's']"
      ]
     },
     "execution_count": 12,
     "metadata": {},
     "output_type": "execute_result"
    }
   ],
   "source": [
    "# Answer 7\n",
    "s=\"pwskills\"\n",
    "[i for i in s]"
   ]
  },
  {
   "cell_type": "code",
   "execution_count": null,
   "id": "ffbaf35d-0e24-408f-ba11-4491f4d4cb6b",
   "metadata": {},
   "outputs": [],
   "source": [
    "# num=(input(\"Enter a Number\"))\n",
    "# l=len(num)\n",
    "# i=0\n",
    "# j=l-1\n",
    "# check=1\n",
    "# while i<=j:\n",
    "#     if i==j:\n",
    "#         i+=1\n",
    "#         j-=1\n",
    "#         continue\n",
    "#     else:\n",
    "#         check=0\n",
    "#         print(\"Not A Palindrome\")\n",
    "#         break\n",
    "# if check:\n",
    "#     print(\"The Number is Palindrome\")\n",
    "# Q8 To check whether the number is palindrome or not using while loop"
   ]
  },
  {
   "cell_type": "code",
   "execution_count": null,
   "id": "a8d6f2af-fa57-484b-9ec6-2b793eae8ffa",
   "metadata": {},
   "outputs": [],
   "source": [
    "def is_palindrome(num):\n",
    "    original = num\n",
    "    reverse = 0\n",
    "    while num > 0:\n",
    "        digit = num % 10\n",
    "        reverse = (reverse * 10) + digit\n",
    "        num //= 10\n",
    "    return original == reverse\n",
    "\n",
    "number = int(input(\"Enter a number: \"))\n",
    "if is_palindrome(number):\n",
    "    print(f\"{number} is a palindrome\")\n",
    "else:\n",
    "    print(f\"{number} is not a palindrome\")\n"
   ]
  },
  {
   "cell_type": "code",
   "execution_count": null,
   "id": "33cdf476-9991-422c-81ea-06038fd1647d",
   "metadata": {},
   "outputs": [],
   "source": [
    "# Q9Write a code to print odd numbers from 1 to 100\n",
    "# using list comprehension\n",
    "[i for i in range(100) if i%2!=0]"
   ]
  },
  {
   "cell_type": "code",
   "execution_count": null,
   "id": "2a63eae7-9e00-4cbd-9054-206dbe4b713f",
   "metadata": {},
   "outputs": [],
   "source": []
  }
 ],
 "metadata": {
  "kernelspec": {
   "display_name": "Python 3 (ipykernel)",
   "language": "python",
   "name": "python3"
  },
  "language_info": {
   "codemirror_mode": {
    "name": "ipython",
    "version": 3
   },
   "file_extension": ".py",
   "mimetype": "text/x-python",
   "name": "python",
   "nbconvert_exporter": "python",
   "pygments_lexer": "ipython3",
   "version": "3.10.8"
  }
 },
 "nbformat": 4,
 "nbformat_minor": 5
}
