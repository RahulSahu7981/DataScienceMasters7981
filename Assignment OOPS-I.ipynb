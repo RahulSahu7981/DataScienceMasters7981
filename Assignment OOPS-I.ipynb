{
 "cells": [
  {
   "cell_type": "code",
   "execution_count": null,
   "id": "3b2b6c88-b163-49b2-8d5c-2d6ad16fe6c2",
   "metadata": {},
   "outputs": [],
   "source": [
    "Answer 1:-A Class in Object Oriented Programming is a blueprint or prototype that \n",
    "defines the varirables and the methods(functions) common to all objects of a \n",
    "certain kind. An object in OOPS is a specimen of a class. Software objects are\n",
    "often used to model real-world objects you find in everyday life."
   ]
  },
  {
   "cell_type": "code",
   "execution_count": 3,
   "id": "85e54282-7fc3-4bf3-bf35-f6ee41f06162",
   "metadata": {},
   "outputs": [
    {
     "data": {
      "text/plain": [
       "11"
      ]
     },
     "execution_count": 3,
     "metadata": {},
     "output_type": "execute_result"
    }
   ],
   "source": [
    "# Examples:-\n",
    "class ClassName:\n",
    "    # class definition \n",
    "    pass\n",
    "class Bike:  \n",
    "#     here bike is the name of the class\n",
    "    name=\"\"\n",
    "    gear=0\n",
    "#     variables inside the class with default values \"\" and 0 respectively\n",
    "bike1=Bike()\n",
    "bike1.name=\"Mountain Bike\"\n",
    "bike1.gear=11"
   ]
  },
  {
   "cell_type": "code",
   "execution_count": 5,
   "id": "7acc7d5c-663e-4032-a20a-09c917e6a12b",
   "metadata": {},
   "outputs": [
    {
     "data": {
      "text/plain": [
       "'Mountain Bike'"
      ]
     },
     "execution_count": 5,
     "metadata": {},
     "output_type": "execute_result"
    }
   ],
   "source": [
    "bike1.name"
   ]
  },
  {
   "cell_type": "code",
   "execution_count": 4,
   "id": "dc32b52d-45d0-4227-8a1a-e41ac6dffa42",
   "metadata": {},
   "outputs": [
    {
     "data": {
      "text/plain": [
       "11"
      ]
     },
     "execution_count": 4,
     "metadata": {},
     "output_type": "execute_result"
    }
   ],
   "source": [
    "bike1.gear"
   ]
  },
  {
   "cell_type": "code",
   "execution_count": null,
   "id": "2c134674-28fa-49ca-94d7-9797d743d457",
   "metadata": {},
   "outputs": [],
   "source": [
    "Answer 2:-The four pillars of the OOPs\n",
    "i)Abstraction\n",
    "ii)Encapsulation\n",
    "iii)Inheritance\n",
    "iv)Polyorphism"
   ]
  },
  {
   "cell_type": "code",
   "execution_count": null,
   "id": "ae9bd23b-4d78-4305-955d-db651b512cc5",
   "metadata": {},
   "outputs": [],
   "source": [
    "Answer 3:-The __init__ method lets the class initialize the object's attributes and \n",
    "serves no other purpose. It is only used within the classes.\n",
    "exp- class class_name():\n",
    "    def __init__(self):\n",
    "#         data members..."
   ]
  },
  {
   "cell_type": "code",
   "execution_count": 8,
   "id": "0e62c3c9-a327-462c-8136-7ccb6ec2d789",
   "metadata": {},
   "outputs": [
    {
     "ename": "SyntaxError",
     "evalue": "invalid syntax (1429884888.py, line 2)",
     "output_type": "error",
     "traceback": [
      "\u001b[0;36m  Cell \u001b[0;32mIn[8], line 2\u001b[0;36m\u001b[0m\n\u001b[0;31m    def__init__(self,name,age):\u001b[0m\n\u001b[0m                              ^\u001b[0m\n\u001b[0;31mSyntaxError\u001b[0m\u001b[0;31m:\u001b[0m invalid syntax\n"
     ]
    }
   ],
   "source": [
    "class Person:\n",
    "    def__init__(self,name,age):\n",
    "        self.name=name\n",
    "        self.age=age\n",
    "p1=Person(\"John\",36)\n",
    "print(p1.name)\n",
    "print(p1.age)"
   ]
  },
  {
   "cell_type": "code",
   "execution_count": null,
   "id": "9939b4e0-f4ef-4d17-addf-7bb7431c290d",
   "metadata": {},
   "outputs": [],
   "source": [
    "Answer 4:-Why do we use self?\n",
    "self represents the instance of the class. By using the “self” we can access \n",
    "the attributes and methods of the class in python. It binds the attributes \n",
    "with the given arguments. The reason you need to use self. is because Python\n",
    "does not use the @ syntax to refer to instance attributes."
   ]
  },
  {
   "cell_type": "code",
   "execution_count": null,
   "id": "e2689fd3-cead-4396-9ea7-3d27fabb5287",
   "metadata": {},
   "outputs": [],
   "source": [
    "Answer 5:-\n",
    "Inheritance is a mechanism in which one class acquires the property of another\n",
    "class. For example, a child inherits the traits of his/her parents.\n",
    "With inheritance, we can reuse the fields and methods of the existing class.\n",
    "Hence, inheritance facilitates Reusability and is an important concept of OOPs.\n"
   ]
  },
  {
   "cell_type": "code",
   "execution_count": null,
   "id": "5695d641-6ab7-4241-883e-6a06c1dd74d6",
   "metadata": {},
   "outputs": [],
   "source": [
    "Types of Inheritance:-\n",
    "Single Inheritance\n",
    "Single Inheritance Single inheritance allows a derivate class to inherit \n",
    "properties of one parent class, and this allows code reuse and the \n",
    "introduction of additional features in existing code."
   ]
  },
  {
   "cell_type": "code",
   "execution_count": 9,
   "id": "c838d1df-25d8-4d25-a659-dcecfe13db7b",
   "metadata": {},
   "outputs": [
    {
     "name": "stdout",
     "output_type": "stream",
     "text": [
      "This function is defined inside the parent class.\n",
      "This function is defined inside the child class.\n"
     ]
    }
   ],
   "source": [
    "class Parent1:\n",
    "    def func_1(self):\n",
    "        print(\"This function is defined inside the parent class.\")\n",
    "class Child1(Parent1):\n",
    "    def func_2(self):\n",
    "        print(\"This function is defined inside the child class.\")\n",
    "object=Child1()\n",
    "object.func_1()\n",
    "object.func_2()"
   ]
  },
  {
   "cell_type": "code",
   "execution_count": null,
   "id": "83c5bce2-9627-4816-b05a-9d97ef4e4739",
   "metadata": {},
   "outputs": [],
   "source": [
    "Multiple Inheritance\n",
    "If a class is able to be created from multiple base classes, \n",
    "this kind of Inheritance is known as multiple Inheritance. When there is\n",
    "multiple Inheritance, each of the attributes that are present in the classes\n",
    "of the base has been passed on to the class that is derived from it.\n",
    "\n"
   ]
  },
  {
   "cell_type": "code",
   "execution_count": 11,
   "id": "92635841-ef15-4348-a4d0-0efcc9468d78",
   "metadata": {},
   "outputs": [
    {
     "name": "stdout",
     "output_type": "stream",
     "text": [
      "Father Name is: Alex\n",
      "Mother Name is: Seriona\n"
     ]
    }
   ],
   "source": [
    "# Here, we will create the Base class 1\n",
    "class Mother1:\n",
    "    mothername1=\"\"\n",
    "    def mother1(self):\n",
    "        print(self.fathername1)\n",
    "# Here, we will create the Base class 2  \n",
    "class Father1:\n",
    "    fathername1=\"\"\n",
    "    def father1(self):\n",
    "        print(self.fathername1)\n",
    "# now, we will create the Derived class  \n",
    "class Son1(Mother1,Father1):\n",
    "    def parents1(self):\n",
    "        print(\"Father Name is:\",self.fathername1)\n",
    "        print(\"Mother Name is:\",self.mothername1)\n",
    "\n",
    "s1=Son1()\n",
    "s1.fathername1=\"Alex\"\n",
    "s1.mothername1=\"Seriona\"\n",
    "s1.parents1()"
   ]
  },
  {
   "cell_type": "code",
   "execution_count": null,
   "id": "129d355e-bf62-43b9-95cb-6d0f4894e72d",
   "metadata": {},
   "outputs": [],
   "source": [
    "Mutlilevel Inheritance\n",
    "the features that are part of the original class, as well as \n",
    "the class that is derived from it, are passed on to the new class. \n",
    "It is similar to a relationship involving grandparents and children."
   ]
  },
  {
   "cell_type": "code",
   "execution_count": 13,
   "id": "c8844e81-3042-444b-9a03-49b1e9f99738",
   "metadata": {},
   "outputs": [
    {
     "name": "stdout",
     "output_type": "stream",
     "text": [
      "John Jr Jr\n",
      "Grandfather Name is:- John Jr Jr\n",
      "Father Name is:- John Jr\n",
      "Son Name Is: John\n"
     ]
    }
   ],
   "source": [
    "class Grandfather1:\n",
    "    def __init__(self,grandfathername1):\n",
    "        self.grandfathername1=grandfathername1\n",
    "class Father1(Grandfather1):\n",
    "    def __init__(self,fathername1,grandfathername1):\n",
    "        self.fathername1=fathername1\n",
    "        \n",
    "        Grandfather1.__init__(self,grandfathername1)\n",
    "        \n",
    "class Son1(Father1):\n",
    "    def __init__(self,sonname1,fathername1,grandfathername1):\n",
    "        self.sonname1=sonname1\n",
    "        \n",
    "        Father1.__init__(self,fathername1,grandfathername1)\n",
    "    def print_name(self):\n",
    "        print(\"Grandfather Name is:-\",self.grandfathername1)\n",
    "        print(\"Father Name is:-\",self.fathername1)\n",
    "        print(\"Son Name Is:\",self.sonname1)\n",
    "        \n",
    "s1 = Son1('John', 'John Jr', 'John Jr Jr')  \n",
    "print (s1.grandfathername1)  \n",
    "s1.print_name()  "
   ]
  },
  {
   "cell_type": "code",
   "execution_count": null,
   "id": "7e310ca3-efa7-4798-ae6f-2aabe1e26ad6",
   "metadata": {},
   "outputs": [],
   "source": [
    "Heirarchial inheritance\n",
    "If multiple derived classes are created from the same base, this kind of Inheritance is known as \n",
    "hierarchical inheritance. In this instance, we have two base classes as a \n",
    "parent (base) class as well as two children (derived) classes."
   ]
  },
  {
   "cell_type": "code",
   "execution_count": 15,
   "id": "897604c1-8837-4212-b4c3-2f741bb3c5f9",
   "metadata": {},
   "outputs": [
    {
     "name": "stdout",
     "output_type": "stream",
     "text": [
      "THis function is defined inside the parent class\n",
      "This Function is inside the child 1\n",
      "THis function is defined inside the parent class\n",
      "This Function is inside the child 2\n"
     ]
    }
   ],
   "source": [
    "class Parent1:\n",
    "    def func_1(self):\n",
    "        print(\"THis function is defined inside the parent class\")\n",
    "# Derived Class 1\n",
    "class Child_1(Parent1):\n",
    "    def func_2(self):\n",
    "        print(\"This Function is inside the child 1\")\n",
    "# Derived Class 2\n",
    "class Child_2(Parent1):\n",
    "    def func_3(self):\n",
    "        print(\"This Function is inside the child 2\")\n",
    "              \n",
    "object1=Child_1()\n",
    "object2=Child_2()\n",
    "object1.func_1()  \n",
    "object1.func_2()  \n",
    "object2.func_1()  \n",
    "object2.func_3()  "
   ]
  }
 ],
 "metadata": {
  "kernelspec": {
   "display_name": "Python 3 (ipykernel)",
   "language": "python",
   "name": "python3"
  },
  "language_info": {
   "codemirror_mode": {
    "name": "ipython",
    "version": 3
   },
   "file_extension": ".py",
   "mimetype": "text/x-python",
   "name": "python",
   "nbconvert_exporter": "python",
   "pygments_lexer": "ipython3",
   "version": "3.10.8"
  }
 },
 "nbformat": 4,
 "nbformat_minor": 5
}
