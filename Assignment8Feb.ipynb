{
 "cells": [
  {
   "cell_type": "code",
   "execution_count": null,
   "metadata": {},
   "outputs": [],
   "source": [
    "# Ans 1:-\n",
    "Abstraction in Python is defined as the process of handling\n",
    "complexoty by hiding unnecessary information from the user.\n",
    "This is one of the core concepts of object-oriented programming(OOP)languages.\n"
   ]
  },
  {
   "cell_type": "code",
   "execution_count": 1,
   "metadata": {},
   "outputs": [],
   "source": [
    "from abc import ABC, abstractmethod\n",
    "class Vehicle(ABC):\n",
    "    def __init__(self,make,model,year):\n",
    "        self.make=make\n",
    "        self.model=model\n",
    "        self.year=year\n",
    "    @abstractmethod\n",
    "    def start(self):\n",
    "        pass\n",
    "    @abstractmethod\n",
    "    def stop(self):\n",
    "        pass\n",
    "class Car(Vehicle):\n",
    "    def start(self):\n",
    "        print(\"Starting the Car......\")\n",
    "    def stop(self):\n",
    "        print(\"Stopping the Car......\")\n",
    "\n",
    "class Motorcycle(Vehicle):\n",
    "    def start(self):\n",
    "        print(\"Starting the Motorcycle...\")\n",
    "    def stop(self):\n",
    "        print(\"Stopping the Motorcycle.\")\n",
    "# create objects of the car and the motorcycle\n",
    "car=Car(\"Toyota\",\"Camry\",2021)\n",
    "motorcycle=Motorcycle(\"Harley Davidson\",\"Street Glide\",2022)"
   ]
  },
  {
   "cell_type": "code",
   "execution_count": null,
   "metadata": {},
   "outputs": [],
   "source": [
    "# Answer 2:-\n",
    "Abstraction refers to the process of hiding \n",
    "complex implementation details while providing \n",
    "a simple and clear interface to the user. This is done\n",
    "by defining abstract classes or interfaces that provide\n",
    "a high-level view of the functionality, without\n",
    "exposing the underlying complexity.\n",
    "exp-\n"
   ]
  },
  {
   "cell_type": "code",
   "execution_count": null,
   "metadata": {},
   "outputs": [],
   "source": [
    "from abc import ABC,abstractmethod\n",
    "\n",
    "class Shape(ABC):\n",
    "    @abstractmethod\n",
    "    def area(self):\n",
    "        pass\n",
    "    @abstractmethod\n",
    "    def perimeter(self):\n",
    "        pass\n",
    "class Rectangle(Shape):\n",
    "    def __init__(self,length,width):\n",
    "        self.length=length\n",
    "        self.width=width\n",
    "    def area(self):\n",
    "        return self.length*self.width\n",
    "    def perimeter(self):\n",
    "        return 2*(self.length+self.width)\n",
    "class Circle(Shape):\n",
    "    def __init__(self,radius):\n",
    "        self.radius=radius\n",
    "    def area(self):\n",
    "        return 3.14*self.radius**2\n",
    "    def perimeter(self):\n",
    "        return 2*3.14*self.radius"
   ]
  },
  {
   "cell_type": "code",
   "execution_count": null,
   "metadata": {},
   "outputs": [],
   "source": [
    "# In this example, we define an abstract class\n",
    "#  Shape with two abstract methods area and per\n",
    "# imeter. This class cannot be instantiated directly,\n",
    "#  but it can be subclassed. We then define two concrete classes Rectangle and Circle\n",
    "#  that inherit from the Shape class and implement the area and perimeter methods.\n",
    "#   These classes provide a clear interface for calculating the area and perimeter of a shape,\n",
    "#    without exposing any of the underlying complexity of the implementation."
   ]
  },
  {
   "cell_type": "code",
   "execution_count": null,
   "metadata": {},
   "outputs": [],
   "source": [
    "# Encapsulation\n",
    "Encapsulation refers to the practice of keeping the\n",
    "internal state of behaviour of an object hidden\n",
    "from the outside world,and controlling access to it through a public\n",
    "interface. This is done ny defining class atrributes\n",
    "and methods as either public or private.\n"
   ]
  },
  {
   "cell_type": "code",
   "execution_count": 2,
   "metadata": {},
   "outputs": [],
   "source": [
    "class BankAccount:\n",
    "    def __init__(self,balance):\n",
    "        self.__balance=balance\n",
    "    def deposit(self,amount):\n",
    "        self.__balance=self.__balance+amount\n",
    "    def withdraw(self,amount):\n",
    "        if self.__balance>=amount:\n",
    "            self.__balance=self.__balance-amount\n",
    "        else:\n",
    "            print(\"Insufficient Balance\")\n",
    "    def get_balance(self):\n",
    "        return self.__balance"
   ]
  },
  {
   "cell_type": "code",
   "execution_count": null,
   "metadata": {},
   "outputs": [],
   "source": [
    "# Answer 3:-\n",
    "The 'abc' module in Python \n",
    "the abc module is used to help ensure that certain methods or properties\n",
    "are implemented in concrete subclasses and provide a consistent interface \n",
    "across those classes. This can help make your code more maintainable and \n",
    "easier to understand.\n",
    "The abc module in Python stands for \"Abstract Base Classes\".\n",
    "It provides a way to define abstract classes that specify a set of methods \n",
    "that must be implemented by any concrete class that inherits from them.\n",
    "\n",
    "The abc module is used to implement the concept of abstract classes in Python.\n",
    "Abstract classes are classes that cannot be instantiated on their own, but they can \n",
    "be subclassed to create concrete classes that inherit their properties and methods.\n",
    "Abstract classes are useful when you want to define a common interface for a set of classes,\n",
    "but don't want to define their implementation details."
   ]
  },
  {
   "attachments": {},
   "cell_type": "markdown",
   "metadata": {},
   "source": [
    "Answer 4:-\n",
    "Data abstraction is a programming concept that allows the hiding of implementation details while exposing only the essential features to the users. In Python, we can achieve data abstraction through the use of classes and objects.\n",
    "To acheive Data Abstraction:-\n",
    "i)Define a class: Define a class that will represent the data that we want to abstract. The class should contain only the necessary methods and properties that are needed by the user.\n",
    "ii)Define the public interface: Define a set of public methods and properties that will be accessible to the user. These methods and properties should be well documented and provide a clear understanding of what they do.\n",
    "iii)Implement the private methods and properties: Implement the private methods and properties that will be used by the public methods to perform their tasks. These methods and properties should not be accessible outside the class.\n",
    "iv)Hide the implementation details: Hide the implementation details of the class from the user. This can be achieved by making the private methods and properties inaccessible outside the class."
   ]
  },
  {
   "cell_type": "code",
   "execution_count": null,
   "metadata": {},
   "outputs": [],
   "source": [
    "# For exp-\n",
    "class BankAccount:\n",
    "    def __init__(self,balance):\n",
    "        self.balance=balance\n",
    "    def deposit(self,amount):\n",
    "        self.__balance+=amount\n",
    "    def withdraw(self,amount):\n",
    "        if self.__balance>=amount:\n",
    "            self.__balance-=amount\n",
    "        else:\n",
    "            print(\"Insufficient Balance\")\n",
    "    def get_balance(self):\n",
    "        return self.__balance"
   ]
  },
  {
   "attachments": {},
   "cell_type": "markdown",
   "metadata": {},
   "source": [
    "Answer 5:-\n",
    "No, we cannot create an instance of an abstract class in Python.\n",
    "\n",
    "An abstract class is a class that cannot be instantiated on its own because it contains one or more abstract methods, which are methods that are declared but not implemented in the abstract class. The purpose of an abstract class is to provide a template or a blueprint for concrete subclasses to inherit from and implement the abstract methods according to their specific needs.\n",
    "\n",
    "If we try to create an instance of an abstract class in Python, we will get a TypeError with the message \"Can't instantiate abstract class\". "
   ]
  },
  {
   "cell_type": "code",
   "execution_count": 3,
   "metadata": {},
   "outputs": [
    {
     "ename": "TypeError",
     "evalue": "Can't instantiate abstract class MyAbstractClass with abstract method my_abstract_method",
     "output_type": "error",
     "traceback": [
      "\u001b[1;31m---------------------------------------------------------------------------\u001b[0m",
      "\u001b[1;31mTypeError\u001b[0m                                 Traceback (most recent call last)",
      "Cell \u001b[1;32mIn[3], line 7\u001b[0m\n\u001b[0;32m      4\u001b[0m     \u001b[39m@abstractmethod\u001b[39m\n\u001b[0;32m      5\u001b[0m     \u001b[39mdef\u001b[39;00m \u001b[39mmy_abstract_method\u001b[39m(\u001b[39mself\u001b[39m):\n\u001b[0;32m      6\u001b[0m         \u001b[39mpass\u001b[39;00m\n\u001b[1;32m----> 7\u001b[0m my_instance\u001b[39m=\u001b[39mMyAbstractClass()\n",
      "\u001b[1;31mTypeError\u001b[0m: Can't instantiate abstract class MyAbstractClass with abstract method my_abstract_method"
     ]
    }
   ],
   "source": [
    "from abc import ABC, abstractmethod\n",
    "\n",
    "class MyAbstractClass(ABC):\n",
    "    @abstractmethod\n",
    "    def my_abstract_method(self):\n",
    "        pass\n",
    "my_instance=MyAbstractClass()"
   ]
  }
 ],
 "metadata": {
  "kernelspec": {
   "display_name": "Python 3",
   "language": "python",
   "name": "python3"
  },
  "language_info": {
   "codemirror_mode": {
    "name": "ipython",
    "version": 3
   },
   "file_extension": ".py",
   "mimetype": "text/x-python",
   "name": "python",
   "nbconvert_exporter": "python",
   "pygments_lexer": "ipython3",
   "version": "3.10.10"
  },
  "orig_nbformat": 4,
  "vscode": {
   "interpreter": {
    "hash": "f25927998562c69dadb78ab36252dacd152a16449c20045720a25cded6f04852"
   }
  }
 },
 "nbformat": 4,
 "nbformat_minor": 2
}
