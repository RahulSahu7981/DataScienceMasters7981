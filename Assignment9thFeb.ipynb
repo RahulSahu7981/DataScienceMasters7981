{
 "cells": [
  {
   "attachments": {},
   "cell_type": "markdown",
   "metadata": {},
   "source": []
  },
  {
   "cell_type": "code",
   "execution_count": 3,
   "metadata": {},
   "outputs": [],
   "source": [
    "# Answer 1:-\n",
    "class vehicle:\n",
    "    def __init__(self,name_of_vehicle,max_speed,average_of_vehicle):\n",
    "        self.name_of_vehicle=name_of_vehicle\n",
    "        self.max_speed=max_speed\n",
    "        self.average_of_vehicle=average_of_vehicle\n",
    "\n",
    "car1=vehicle(\"Toyota\",180,72) \n",
    "\n"
   ]
  },
  {
   "cell_type": "code",
   "execution_count": 4,
   "metadata": {},
   "outputs": [
    {
     "name": "stdout",
     "output_type": "stream",
     "text": [
      "Jaguar has a seating capacity of 5 passengers.\n"
     ]
    }
   ],
   "source": [
    "# Answer 2:-\n",
    "class Car(vehicle):\n",
    "    def seating_capacity(self,capacity):\n",
    "        return f\"{self.name_of_vehicle} has a seating capacity of {capacity} passengers.\"\n",
    "# We can now create an instance of the Car class and call the seating_capacity method as follows:\n",
    "car=Car(\"Jaguar\",180,72)\n",
    "print(car.seating_capacity(5))"
   ]
  },
  {
   "attachments": {},
   "cell_type": "markdown",
   "metadata": {},
   "source": [
    "Q3:-What is multiple inheritance? Write a python code to demonstrate multiple inheritance.\n",
    "Answer 3:-Multiple Inheritance is a feature\n",
    "where a class can inherit from more than one classes.  The constructors of inherited classes are called in the same order in which they are inherited.\n",
    "Eg: \n",
    "\n",
    "(i) A CHILD class is derived from FATHER and MOTHER class\n",
    "(ii) A PETROL class is derived from LIQUID and FUEL class."
   ]
  },
  {
   "cell_type": "code",
   "execution_count": 6,
   "metadata": {},
   "outputs": [
    {
     "name": "stdout",
     "output_type": "stream",
     "text": [
      "My Mother Name isAlex and my father name is Alex.\n"
     ]
    }
   ],
   "source": [
    "# Code Implementation\n",
    "class Mother:\n",
    "    def __init__(self,name):\n",
    "        self.name=name\n",
    "    def get_name(self):\n",
    "        return self.name\n",
    "class Father:\n",
    "    def __init__(self,name):\n",
    "        self.name=name\n",
    "    def get_name(self):\n",
    "        return self.name\n",
    "class Child(Mother,Father):\n",
    "    def __init__(self, name,mother,father):\n",
    "        Mother.__init__(self,mother)\n",
    "        Father.__init__(self,father)\n",
    "        self.name=name\n",
    "    def get_parents(self):\n",
    "        return f\"My Mother Name is {self.get_name()} and my father name is {self.get_name()}.\"\n",
    "child=Child(\"Alex\",\"Anna\",\"John\")\n",
    "print(child.get_parents())\n"
   ]
  },
  {
   "attachments": {},
   "cell_type": "markdown",
   "metadata": {},
   "source": [
    "Q4. What are getter and setter in python? Create a class and create a getter and a setter method in this\n",
    "class.\n",
    "Answer 4:\n",
    "In Python, getters and setters are methods that allow you to access and modify the values of instance variables of a class in a controlled way.\n",
    " The getter method is used to retrieve the value of an instance variable, and the setter method is used to modify the value of an instance variable.\n",
    "Here is an example of a class with a getter and a setter method:"
   ]
  },
  {
   "cell_type": "code",
   "execution_count": null,
   "metadata": {},
   "outputs": [],
   "source": [
    "class Person:\n",
    "    def __init__(self) -> None:\n",
    "        pass"
   ]
  }
 ],
 "metadata": {
  "kernelspec": {
   "display_name": "Python 3",
   "language": "python",
   "name": "python3"
  },
  "language_info": {
   "codemirror_mode": {
    "name": "ipython",
    "version": 3
   },
   "file_extension": ".py",
   "mimetype": "text/x-python",
   "name": "python",
   "nbconvert_exporter": "python",
   "pygments_lexer": "ipython3",
   "version": "3.10.10"
  },
  "orig_nbformat": 4,
  "vscode": {
   "interpreter": {
    "hash": "f25927998562c69dadb78ab36252dacd152a16449c20045720a25cded6f04852"
   }
  }
 },
 "nbformat": 4,
 "nbformat_minor": 2
}
