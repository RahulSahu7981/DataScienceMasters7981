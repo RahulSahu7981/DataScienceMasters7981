{
 "cells": [
  {
   "cell_type": "code",
   "execution_count": 8,
   "id": "b0c64667-f187-4ebe-a6b0-ca3bb2edd85a",
   "metadata": {},
   "outputs": [
    {
     "ename": "TypeError",
     "evalue": "'dict' object is not callable",
     "output_type": "error",
     "traceback": [
      "\u001b[0;31m---------------------------------------------------------------------------\u001b[0m",
      "\u001b[0;31mTypeError\u001b[0m                                 Traceback (most recent call last)",
      "Cell \u001b[0;32mIn[8], line 15\u001b[0m\n\u001b[1;32m     13\u001b[0m     \u001b[38;5;28;01mif\u001b[39;00m \u001b[38;5;28mtype\u001b[39m(i)\u001b[38;5;241m==\u001b[39m\u001b[38;5;28mdict\u001b[39m:\n\u001b[1;32m     14\u001b[0m         \u001b[38;5;28;01mfor\u001b[39;00m j \u001b[38;5;129;01min\u001b[39;00m i:\n\u001b[0;32m---> 15\u001b[0m             product\u001b[38;5;241m=\u001b[39mproduct\u001b[38;5;241m*\u001b[39mj\u001b[38;5;241m*\u001b[39m\u001b[43mi\u001b[49m\u001b[43m(\u001b[49m\u001b[43mj\u001b[49m\u001b[43m)\u001b[49m\n\u001b[1;32m     17\u001b[0m product\n",
      "\u001b[0;31mTypeError\u001b[0m: 'dict' object is not callable"
     ]
    }
   ],
   "source": [
    "list1 = [1,2,3,4, [44,55,66, True], False, (34,56,78,89,34), {1,2,3,3,2,1}, \n",
    "{1:34, \"key2\": [55, 67, 78, 89], \n",
    "4: (45,22, 61, 34)}, [56, 'data science'], 'Machine Learning']\n",
    "\n",
    "product=1\n",
    "for i in list1:\n",
    "    if type(i)==int:\n",
    "        product=product*i\n",
    "    if type(i)==list or type(i)==set:\n",
    "        for j in i:\n",
    "            if type(j)==int:\n",
    "                product=product*j\n",
    "    if type(i)==dict:\n",
    "        for j in i:\n",
    "            product=product*j*i(j)\n",
    "\n",
    "product\n"
   ]
  },
  {
   "cell_type": "code",
   "execution_count": 3,
   "id": "a5688e67-45cb-460c-824e-6ad28f8275cc",
   "metadata": {},
   "outputs": [
    {
     "name": "stdout",
     "output_type": "stream",
     "text": [
      "<class 'int'>\n",
      "<class 'int'>\n",
      "<class 'int'>\n",
      "<class 'int'>\n",
      "<class 'list'>\n",
      "<class 'bool'>\n",
      "<class 'tuple'>\n",
      "<class 'set'>\n",
      "<class 'dict'>\n",
      "<class 'list'>\n",
      "<class 'str'>\n"
     ]
    }
   ],
   "source": [
    "list1 = [1,2,3,4, [44,55,66, True], False, (34,56,78,89,34), {1,2,3,3,2,1}, \n",
    "{1:34, \"key2\": [55, 67, 78, 89], \n",
    "4: (45,22, 61, 34)}, [56, 'data science'], 'Machine Learning']\n",
    "\n",
    "product=1\n",
    "for i in list1:\n",
    "    print(type(i))"
   ]
  },
  {
   "cell_type": "code",
   "execution_count": 12,
   "id": "e398f54a-0c76-4b7e-b5c6-e57bcff62626",
   "metadata": {},
   "outputs": [
    {
     "name": "stdin",
     "output_type": "stream",
     "text": [
      "ENter Your String for EnCoding I want to become a Data Scientist.\n"
     ]
    },
    {
     "data": {
      "text/plain": [
       "'I want to become a Data Scientist.'"
      ]
     },
     "execution_count": 12,
     "metadata": {},
     "output_type": "execute_result"
    }
   ],
   "source": [
    "# Q2:-\n",
    "s=input(\"ENter Your String for EnCoding\")\n",
    "for i in s:\n",
    "    if i==\"a\":\n",
    "        i=\"z\"\n",
    "    if i==\"b\":\n",
    "        i=\"y\"\n",
    "    if i==\"c\":\n",
    "        i=\"x\"\n",
    "    if i==\" \":\n",
    "        i=\"$\"\n",
    "    # else:\n",
    "    #     pass\n",
    "\n",
    "s"
   ]
  },
  {
   "cell_type": "code",
   "execution_count": 13,
   "id": "5e20b25f-afac-4d76-ab9e-f40b06ada6b8",
   "metadata": {},
   "outputs": [
    {
     "name": "stdin",
     "output_type": "stream",
     "text": [
      "Enter the message to be encrypted:  I want to become a Data Scientist.\n"
     ]
    },
    {
     "name": "stdout",
     "output_type": "stream",
     "text": [
      "Encrypted message: r$dzmg$gl$yvxlnv$z$wzgz$hxrvmgrhg.\n"
     ]
    }
   ],
   "source": [
    "# Answer 2:-\n",
    "def encrypt_message(message):\n",
    "    message = message.lower()\n",
    "    encrypted_message = \"\"\n",
    "    for char in message:\n",
    "        if char.isalpha():\n",
    "            encrypted_message += chr(122 - ord(char) + 97)\n",
    "        elif char == \" \":\n",
    "            encrypted_message += \"$\"\n",
    "        else:\n",
    "            encrypted_message += char\n",
    "    return encrypted_message\n",
    "\n",
    "message = input(\"Enter the message to be encrypted: \")\n",
    "encrypted_message = encrypt_message(message)\n",
    "print(\"Encrypted message:\", encrypted_message)\n"
   ]
  },
  {
   "cell_type": "code",
   "execution_count": null,
   "id": "0e575979-c18c-4c5b-b14d-6f62b84f5f07",
   "metadata": {},
   "outputs": [],
   "source": [
    "def flat_list_product(lst):\n",
    "    from collections.abc import Iterable\n",
    "\n",
    "    def flatten(lst):\n",
    "        for item in lst:\n",
    "            if isinstance(item, Iterable) and not isinstance(item, (str, dict)):\n",
    "                yield from flatten(item)\n",
    "            elif isinstance(item, (int, float)):\n",
    "                yield item\n",
    "\n",
    "    product = 1\n",
    "    for item in flatten(lst):\n",
    "        product *= item\n",
    "    return product\n",
    "\n",
    "list1 = [1, 2, 3, 4, [44, 55, 66, True], False, (34, 56, 78, 89, 34), {1, 2, 3, 3, 2, 1}, {1: 34, \"key2\": [55, 67, 78, 89], 4: (45, 22, 61, 34)}, [56, 'data science'], 'Machine Learning']\n",
    "result = flat_list_product(list1)\n",
    "print(result)\n"
   ]
  },
  {
   "cell_type": "code",
   "execution_count": null,
   "id": "835e83e1-ff10-4e4c-a675-858fc2d1c939",
   "metadata": {},
   "outputs": [],
   "source": []
  }
 ],
 "metadata": {
  "kernelspec": {
   "display_name": "Python 3 (ipykernel)",
   "language": "python",
   "name": "python3"
  },
  "language_info": {
   "codemirror_mode": {
    "name": "ipython",
    "version": 3
   },
   "file_extension": ".py",
   "mimetype": "text/x-python",
   "name": "python",
   "nbconvert_exporter": "python",
   "pygments_lexer": "ipython3",
   "version": "3.10.8"
  }
 },
 "nbformat": 4,
 "nbformat_minor": 5
}
