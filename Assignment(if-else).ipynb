{
 "cells": [
  {
   "cell_type": "code",
   "execution_count": 3,
   "id": "667b139e-d775-457d-8771-84181e3dc8e2",
   "metadata": {},
   "outputs": [
    {
     "ename": "SyntaxError",
     "evalue": "invalid syntax (3524855014.py, line 1)",
     "output_type": "error",
     "traceback": [
      "\u001b[0;36m  Cell \u001b[0;32mIn[3], line 1\u001b[0;36m\u001b[0m\n\u001b[0;31m    Answer1:-\u001b[0m\n\u001b[0m             ^\u001b[0m\n\u001b[0;31mSyntaxError\u001b[0m\u001b[0;31m:\u001b[0m invalid syntax\n"
     ]
    }
   ],
   "source": [
    "# Answer1:-\n",
    "percent=int(input(\"What's your total percentage ?\"))\n",
    "if percent>90:\n",
    "    print(\"A\")\n",
    "elif percent>80 and percent<=90:\n",
    "    print(\"B\")\n",
    "elif percent>=60 and percent<=80:\n",
    "    print(\"C\")\n",
    "else:\n",
    "    print(\"D\")"
   ]
  },
  {
   "cell_type": "code",
   "execution_count": 4,
   "id": "d781d56a-0908-4a12-8f5d-fc3d68631ca5",
   "metadata": {},
   "outputs": [
    {
     "name": "stdin",
     "output_type": "stream",
     "text": [
      "Enter the cost price of the Bike:- 10000000000\n"
     ]
    },
    {
     "name": "stdout",
     "output_type": "stream",
     "text": [
      "15%\n"
     ]
    }
   ],
   "source": [
    "# Answer 2:-\n",
    "cost_price=int(input(\"Enter the cost price of the Bike:-\"))\n",
    "if cost_price>100000:\n",
    "    print(\"15%\")\n",
    "elif cost_price>50000 and cost_price<=100000:\n",
    "    print(\"10%\")\n",
    "else:\n",
    "    print(\"5%\")"
   ]
  },
  {
   "cell_type": "code",
   "execution_count": 8,
   "id": "9c752a8e-bd2d-433a-8b37-76d7b44e79b1",
   "metadata": {},
   "outputs": [
    {
     "name": "stdin",
     "output_type": "stream",
     "text": [
      "Enter the City Jaipur\n"
     ]
    },
    {
     "name": "stdout",
     "output_type": "stream",
     "text": [
      "Jal Mahal\n"
     ]
    }
   ],
   "source": [
    "# Answer 3:-\n",
    "city=input(\"Enter the City\")\n",
    "if city==\"Delhi\":\n",
    "    print(\"Red Fort\")\n",
    "elif city==\"Agra\":\n",
    "    print(\"Taj Mahal\")\n",
    "else:\n",
    "    print(\"Jal Mahal\")"
   ]
  },
  {
   "cell_type": "code",
   "execution_count": 11,
   "id": "abd86c32-299a-49d1-b631-90e07f680b04",
   "metadata": {},
   "outputs": [
    {
     "name": "stdin",
     "output_type": "stream",
     "text": [
      "Enter the Number 37\n"
     ]
    },
    {
     "name": "stdout",
     "output_type": "stream",
     "text": [
      "Count is: 2\n"
     ]
    }
   ],
   "source": [
    "# Answer 4:-\n",
    "num=int(input(\"Enter the Number\"))\n",
    "count=0\n",
    "while num>10:\n",
    "    num=num/3\n",
    "    count+=1\n",
    "print(\"Count is:\",count)"
   ]
  },
  {
   "cell_type": "code",
   "execution_count": null,
   "id": "17cb8666-76d9-4c29-b229-80e88c6915a8",
   "metadata": {},
   "outputs": [],
   "source": [
    "# Answer 5:-\n",
    "A \"While\" Loop is used to repeat a specific block of code an unknown number of times,\n",
    "until a condition is met. For example, if we want to ask a user for a number between 1 and 10,\n",
    "we don't know how many times the user may enter a larger number,\n",
    "so we keep asking \"while the number is not between 1 and 10\". \n",
    "For Example:-\n"
   ]
  },
  {
   "cell_type": "code",
   "execution_count": 14,
   "id": "ad323562-276f-49f8-8a48-f297d431db29",
   "metadata": {},
   "outputs": [
    {
     "name": "stdin",
     "output_type": "stream",
     "text": [
      "Enter the Number 35\n"
     ]
    }
   ],
   "source": [
    "number=int(input(\"Enter the Number\"))\n",
    "count = 0\n",
    "while (number > 1):\n",
    "        number = number / 2\n",
    "        count+=1 \n",
    "                # // the same as count = count + 1;\n",
    "                "
   ]
  },
  {
   "cell_type": "code",
   "execution_count": null,
   "id": "be3f4016-10dc-4fbc-a5fa-95d18a64f488",
   "metadata": {},
   "outputs": [],
   "source": [
    "# Answer7:-Print reverse from 10 to 1 using whie loop\n",
    "i=10\n",
    "while i>0:\n",
    "    print(i)\n",
    "    i-=1"
   ]
  }
 ],
 "metadata": {
  "kernelspec": {
   "display_name": "Python 3 (ipykernel)",
   "language": "python",
   "name": "python3"
  },
  "language_info": {
   "codemirror_mode": {
    "name": "ipython",
    "version": 3
   },
   "file_extension": ".py",
   "mimetype": "text/x-python",
   "name": "python",
   "nbconvert_exporter": "python",
   "pygments_lexer": "ipython3",
   "version": "3.10.8"
  }
 },
 "nbformat": 4,
 "nbformat_minor": 5
}
